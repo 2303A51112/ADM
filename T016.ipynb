{
  "nbformat": 4,
  "nbformat_minor": 0,
  "metadata": {
    "colab": {
      "provenance": [],
      "authorship_tag": "ABX9TyOgv1ZyYINbEbSnPW/2vOko",
      "include_colab_link": true
    },
    "kernelspec": {
      "name": "python3",
      "display_name": "Python 3"
    },
    "language_info": {
      "name": "python"
    }
  },
  "cells": [
    {
      "cell_type": "markdown",
      "metadata": {
        "id": "view-in-github",
        "colab_type": "text"
      },
      "source": [
        "<a href=\"https://colab.research.google.com/github/2303A51112/ADM/blob/main/T016.ipynb\" target=\"_parent\"><img src=\"https://colab.research.google.com/assets/colab-badge.svg\" alt=\"Open In Colab\"/></a>"
      ]
    },
    {
      "cell_type": "code",
      "source": [
        "#include <stdio.h>\n",
        "#include <string.h>\n",
        "\n",
        "#define MAX_HOSPITALS 100\n",
        "#define MAX_RECORDS 1000\n",
        "\n",
        "typedef struct {\n",
        "    int id;\n",
        "        char department[50];\n",
        "            char data[200];\n",
        "            } HealthRecord;\n",
        "\n",
        "            typedef struct {\n",
        "                int id;\n",
        "                    char name[100];\n",
        "                        HealthRecord records[MAX_RECORDS];\n",
        "                            int recordCount;\n",
        "                            } Hospital;\n",
        "\n",
        "                            Hospital hospitals[MAX_HOSPITALS];\n",
        "                            int hospitalCount = 0;\n",
        "\n",
        "                            void addHospital(int id, const char *name) {\n",
        "                                if (hospitalCount < MAX_HOSPITALS) {\n",
        "                                        hospitals[hospitalCount].id = id;\n",
        "                                                strcpy(hospitals[hospitalCount].name, name);\n",
        "                                                        hospitals[hospitalCount].recordCount = 0;\n",
        "                                                                hospitalCount++;\n",
        "                                                                    }\n",
        "                                                                    }\n",
        "\n",
        "                                                                    void addHealthRecord(int hospitalId, int recordId, const char *department, const char *data) {\n",
        "                                                                        for (int i = 0; i < hospitalCount; i++) {\n",
        "                                                                                if (hospitals[i].id == hospitalId && hospitals[i].recordCount < MAX_RECORDS) {\n",
        "                                                                                            HealthRecord *record = &hospitals[i].records[hospitals[i].recordCount++];\n",
        "                                                                                                        record->id = recordId;\n",
        "                                                                                                                    strcpy(record->department, department);\n",
        "                                                                                                                                strcpy(record->data, data);\n",
        "                                                                                                                                            break;\n",
        "                                                                                                                                                    }\n",
        "                                                                                                                                                        }\n",
        "                                                                                                                                                        }\n",
        "\n",
        "                                                                                                                                                        void updateHealthRecord(int hospitalId, int recordId, const char *newData) {\n",
        "                                                                                                                                                            for (int i = 0; i < hospitalCount; i++) {\n",
        "                                                                                                                                                                    if (hospitals[i].id == hospitalId) {\n",
        "                                                                                                                                                                                for (int j = 0; j < hospitals[i].recordCount; j++) {\n",
        "                                                                                                                                                                                                if (hospitals[i].records[j].id == recordId) {\n",
        "                                                                                                                                                                                                                    strcpy(hospitals[i].records[j].data, newData);\n",
        "                                                                                                                                                                                                                                        break;\n",
        "                                                                                                                                                                                                                                                        }\n",
        "                                                                                                                                                                                                                                                                    }\n",
        "                                                                                                                                                                                                                                                                            }\n",
        "                                                                                                                                                                                                                                                                                }\n",
        "                                                                                                                                                                                                                                                                                }\n",
        "\n",
        "                                                                                                                                                                                                                                                                                void viewAllData() {\n",
        "                                                                                                                                                                                                                                                                                    for (int i = 0; i < hospitalCount; i++) {\n",
        "                                                                                                                                                                                                                                                                                            printf(\"Hospital: %s (ID: %d)\\n\", hospitals[i].name, hospitals[i].id);\n",
        "                                                                                                                                                                                                                                                                                                    for (int j = 0; j < hospitals[i].recordCount; j++) {\n",
        "                                                                                                                                                                                                                                                                                                                printf(\"  Record ID: %d, Department: %s, Data: %s\\n\",\n",
        "                                                                                                                                                                                                                                                                                                                                   hospitals[i].records[j].id,\n",
        "                                                                                                                                                                                                                                                                                                                                                      hospitals[i].records[j].department,\n",
        "                                                                                                                                                                                                                                                                                                                                                                         hospitals[i].records[j].data);\n",
        "                                                                                                                                                                                                                                                                                                                                                                                 }\n",
        "                                                                                                                                                                                                                                                                                                                                                                                     }\n",
        "                                                                                                                                                                                                                                                                                                                                                                                     }\n",
        "\n",
        "                                                                                                                                                                                                                                                                                                                                                                                     int main() {\n",
        "                                                                                                                                                                                                                                                                                                                                                                                         addHospital(1, \"General Hospital\");\n",
        "                                                                                                                                                                                                                                                                                                                                                                                             addHospital(2, \"City Health Center\");\n",
        "\n",
        "                                                                                                                                                                                                                                                                                                                                                                                                 addHealthRecord(1, 101, \"Pediatrics\", \"Child immunization data\");\n",
        "                                                                                                                                                                                                                                                                                                                                                                                                     addHealthRecord(1, 102, \"Cardiology\", \"Heart patient report\");\n",
        "                                                                                                                                                                                                                                                                                                                                                                                                         addHealthRecord(2, 201, \"General\", \"Routine check-up stats\");\n",
        "\n",
        "                                                                                                                                                                                                                                                                                                                                                                                                             updateHealthRecord(1, 102, \"Updated heart patient report\");\n",
        "\n",
        "                                                                                                                                                                                                                                                                                                                                                                                                                 viewAllData();\n",
        "\n",
        "                                                                                                                                                                                                                                                                                                                                                                                                                     return 0;\n",
        "                                                                                                                                                                                                                                                                                                                                                                                                                     }"
      ],
      "metadata": {
        "id": "W3DE5NazZ9l6",
        "outputId": "fbaa237f-0d10-4149-8422-5ba56ad76e5c",
        "colab": {
          "base_uri": "https://localhost:8080/",
          "height": 106
        }
      },
      "execution_count": 3,
      "outputs": [
        {
          "output_type": "error",
          "ename": "SyntaxError",
          "evalue": "invalid syntax (<ipython-input-3-a631dd48eecd>, line 7)",
          "traceback": [
            "\u001b[0;36m  File \u001b[0;32m\"<ipython-input-3-a631dd48eecd>\"\u001b[0;36m, line \u001b[0;32m7\u001b[0m\n\u001b[0;31m    typedef struct {\u001b[0m\n\u001b[0m            ^\u001b[0m\n\u001b[0;31mSyntaxError\u001b[0m\u001b[0;31m:\u001b[0m invalid syntax\n"
          ]
        }
      ]
    }
  ]
}